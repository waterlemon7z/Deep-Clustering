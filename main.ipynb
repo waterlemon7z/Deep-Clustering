{
 "cells": [
  {
   "metadata": {},
   "cell_type": "markdown",
   "source": "# Install Library",
   "id": "6101c72ad4d78330"
  },
  {
   "metadata": {
    "ExecuteTime": {
     "end_time": "2025-09-13T10:13:30.080154Z",
     "start_time": "2025-09-13T10:13:28.099002Z"
    }
   },
   "cell_type": "code",
   "source": [
    "import numpy as np\n",
    "from dateutil.tz import EPOCH\n",
    "from torch.nn import MSELoss\n",
    "from triton.backends.amd.driver import FLOAT_STORAGE_TYPE\n",
    "!uv pip install torch\n",
    "!uv pip install torchvision\n",
    "!uv pip install numpy\n",
    "!uv pip install matplotlib\n",
    "!uv pip install scikit-learn"
   ],
   "id": "9e1b90c244580972",
   "outputs": [
    {
     "name": "stdout",
     "output_type": "stream",
     "text": [
      "\u001B[2mAudited \u001B[1m1 package\u001B[0m \u001B[2min 2ms\u001B[0m\u001B[0m\r\n",
      "\u001B[2mAudited \u001B[1m1 package\u001B[0m \u001B[2min 2ms\u001B[0m\u001B[0m\r\n",
      "\u001B[2mAudited \u001B[1m1 package\u001B[0m \u001B[2min 1ms\u001B[0m\u001B[0m\r\n",
      "\u001B[2mAudited \u001B[1m1 package\u001B[0m \u001B[2min 2ms\u001B[0m\u001B[0m\r\n",
      "\u001B[2mAudited \u001B[1m1 package\u001B[0m \u001B[2min 1ms\u001B[0m\u001B[0m\r\n"
     ]
    }
   ],
   "execution_count": 1
  },
  {
   "metadata": {},
   "cell_type": "markdown",
   "source": "# Set Dataset & Dataloader",
   "id": "cca978b758aade5e"
  },
  {
   "metadata": {
    "ExecuteTime": {
     "end_time": "2025-09-13T10:13:31.239741Z",
     "start_time": "2025-09-13T10:13:30.088224Z"
    }
   },
   "cell_type": "code",
   "source": [
    "import numpy as np\n",
    "import matplotlib.pyplot as plt\n",
    "from torchvision import datasets, transforms"
   ],
   "id": "ac237464379635a1",
   "outputs": [],
   "execution_count": 2
  },
  {
   "metadata": {
    "ExecuteTime": {
     "end_time": "2025-09-13T10:13:31.298752Z",
     "start_time": "2025-09-13T10:13:31.296767Z"
    }
   },
   "cell_type": "code",
   "source": "BATCH_SIZE = 32",
   "id": "9008cb93fcf8fff9",
   "outputs": [],
   "execution_count": 3
  },
  {
   "metadata": {
    "ExecuteTime": {
     "end_time": "2025-09-13T10:13:31.402976Z",
     "start_time": "2025-09-13T10:13:31.342311Z"
    }
   },
   "cell_type": "code",
   "source": [
    "transform = transforms.ToTensor()\n",
    "train_DS = datasets.MNIST(root='./data', train=True, download=True, transform=transform)\n",
    "test_DS = datasets.MNIST(root='./data', train=False, download=True, transform=transform)"
   ],
   "id": "26d51274ea7a105b",
   "outputs": [],
   "execution_count": 4
  },
  {
   "metadata": {
    "ExecuteTime": {
     "end_time": "2025-09-13T10:13:31.549842Z",
     "start_time": "2025-09-13T10:13:31.407750Z"
    }
   },
   "cell_type": "code",
   "source": [
    "plt.imshow(train_DS.data[0], cmap='gray')\n",
    "plt.colorbar()"
   ],
   "id": "60e8b318b1b88fda",
   "outputs": [
    {
     "data": {
      "text/plain": [
       "<matplotlib.colorbar.Colorbar at 0x7626bcde7140>"
      ]
     },
     "execution_count": 5,
     "metadata": {},
     "output_type": "execute_result"
    },
    {
     "data": {
      "text/plain": [
       "<Figure size 640x480 with 2 Axes>"
      ],
      "image/png": "[encoded data removed]"
     },
     "metadata": {},
     "output_type": "display_data",
     "jetTransient": {
      "display_id": null
     }
    }
   ],
   "execution_count": 5
  },
  {
   "metadata": {
    "ExecuteTime": {
     "end_time": "2025-09-13T10:13:31.555881Z",
     "start_time": "2025-09-13T10:13:31.553786Z"
    }
   },
   "cell_type": "code",
   "source": "from torch.utils.data import DataLoader",
   "id": "e8e4b6e4572c400",
   "outputs": [],
   "execution_count": 6
  },
  {
   "metadata": {
    "ExecuteTime": {
     "end_time": "2025-09-13T10:13:31.604030Z",
     "start_time": "2025-09-13T10:13:31.600729Z"
    }
   },
   "cell_type": "code",
   "source": [
    "train_DL = DataLoader(train_DS, batch_size=BATCH_SIZE, shuffle=True)\n",
    "test_DL = DataLoader(test_DS, batch_size=BATCH_SIZE, shuffle=True)"
   ],
   "id": "c30d9016ac0000df",
   "outputs": [],
   "execution_count": 7
  },
  {
   "metadata": {
    "ExecuteTime": {
     "end_time": "2025-09-13T10:13:31.668764Z",
     "start_time": "2025-09-13T10:13:31.649003Z"
    }
   },
   "cell_type": "code",
   "source": "x_batch, y_batch = next(iter(train_DL))",
   "id": "c3ea9247ae4d4993",
   "outputs": [],
   "execution_count": 8
  },
  {
   "metadata": {
    "ExecuteTime": {
     "end_time": "2025-09-13T10:13:31.696154Z",
     "start_time": "2025-09-13T10:13:31.693545Z"
    }
   },
   "cell_type": "code",
   "source": "x_batch.shape",
   "id": "d2240f266b3f9f4f",
   "outputs": [
    {
     "data": {
      "text/plain": [
       "torch.Size([32, 1, 28, 28])"
      ]
     },
     "execution_count": 9,
     "metadata": {},
     "output_type": "execute_result"
    }
   ],
   "execution_count": 9
  },
  {
   "metadata": {},
   "cell_type": "markdown",
   "source": "# Set Model",
   "id": "85f8c0ef2e77ef90"
  },
  {
   "metadata": {
    "ExecuteTime": {
     "end_time": "2025-09-13T10:13:31.742810Z",
     "start_time": "2025-09-13T10:13:31.740883Z"
    }
   },
   "cell_type": "code",
   "source": [
    "import torch\n",
    "from torch import nn"
   ],
   "id": "f90a9f3dd521e2bf",
   "outputs": [],
   "execution_count": 10
  },
  {
   "metadata": {
    "ExecuteTime": {
     "end_time": "2025-09-13T10:13:31.960765Z",
     "start_time": "2025-09-13T10:13:31.786624Z"
    }
   },
   "cell_type": "code",
   "source": [
    "DEVICE = 'cuda' if torch.cuda.is_available() else 'cpu'\n",
    "print(f'Using {DEVICE}')"
   ],
   "id": "747f1843ddd4868d",
   "outputs": [
    {
     "name": "stdout",
     "output_type": "stream",
     "text": [
      "Using cuda\n"
     ]
    }
   ],
   "execution_count": 11
  },
  {
   "metadata": {},
   "cell_type": "markdown",
   "source": "## AutoEncoder",
   "id": "e647804aee77af38"
  },
  {
   "metadata": {
    "ExecuteTime": {
     "end_time": "2025-09-13T10:13:32.007981Z",
     "start_time": "2025-09-13T10:13:32.004419Z"
    }
   },
   "cell_type": "code",
   "source": [
    "class Flatten(nn.Module):\n",
    "    def forward(self, x):\n",
    "        batch = x.shape[0]\n",
    "        return x.reshape(batch, -1)\n",
    "\n",
    "\n",
    "class DeFlatten(nn.Module):\n",
    "    def __init__(self, x):\n",
    "        super().__init__()\n",
    "        self.k = x\n",
    "\n",
    "    def forward(self, x):\n",
    "        batch = x.shape[0]\n",
    "        # x.shape[1] = self.k * w^2\n",
    "        # x.shape[1] // self.k ** 0.5 = w\n",
    "        width = int((x.shape[1] // self.k) ** 0.5)\n",
    "        return x.reshape(batch, self.k,width,width)\n"
   ],
   "id": "74f36e1528f6520",
   "outputs": [],
   "execution_count": 12
  },
  {
   "metadata": {
    "ExecuteTime": {
     "end_time": "2025-09-13T10:13:32.056320Z",
     "start_time": "2025-09-13T10:13:32.051120Z"
    }
   },
   "cell_type": "code",
   "source": [
    "class AutoEncoderConv(nn.Module):\n",
    "    def __init__(self):\n",
    "        super().__init__()\n",
    "        k = 16\n",
    "        self.encoder = nn.Sequential(\n",
    "            nn.Conv2d(in_channels=1, out_channels=k, kernel_size=3, stride=2),\n",
    "            nn.ReLU(),\n",
    "            nn.Conv2d(in_channels=k, out_channels=k * 2, kernel_size=3, stride=2),\n",
    "            nn.ReLU(),\n",
    "            nn.Conv2d(in_channels=k * 2, out_channels=k * 4, kernel_size=3, stride=1),\n",
    "            nn.ReLU(),\n",
    "            Flatten(),\n",
    "            nn.Linear(in_features=1024, out_features=10),\n",
    "            nn.ReLU(),\n",
    "            # nn.Linear(in_features=512, out_features=10),\n",
    "            # nn.ReLU()\n",
    "        )\n",
    "\n",
    "        self.decoder = nn.Sequential(\n",
    "            nn.Linear(in_features=10, out_features=1024),\n",
    "            nn.ReLU(),\n",
    "            # nn.Linear(in_features=512, out_features=1024),\n",
    "            # nn.ReLU(),\n",
    "            DeFlatten(k * 4),\n",
    "            nn.ConvTranspose2d(in_channels=k * 4, out_channels=k * 2, kernel_size=3, stride=1),\n",
    "            nn.ReLU(),\n",
    "            nn.ConvTranspose2d(in_channels=k * 2, out_channels=k, kernel_size=3, stride=2),\n",
    "            nn.ReLU(),\n",
    "            nn.ConvTranspose2d(in_channels=k, out_channels=1, kernel_size=3, stride=2, output_padding=1),\n",
    "            nn.Sigmoid()\n",
    "        )\n",
    "\n",
    "    def forward(self,x):\n",
    "        encode = self.encoder(x)\n",
    "        decode = self.decoder(encode)\n",
    "        return decode, encode"
   ],
   "id": "aacbc92a6c0c58af",
   "outputs": [],
   "execution_count": 13
  },
  {
   "metadata": {},
   "cell_type": "markdown",
   "source": "# Train Model",
   "id": "c639cfea64e37513"
  },
  {
   "metadata": {
    "ExecuteTime": {
     "end_time": "2025-09-13T10:13:32.103133Z",
     "start_time": "2025-09-13T10:13:32.101184Z"
    }
   },
   "cell_type": "code",
   "source": "from torch import optim",
   "id": "be43ddd132e3dd84",
   "outputs": [],
   "execution_count": 14
  },
  {
   "metadata": {
    "ExecuteTime": {
     "end_time": "2025-09-13T10:13:32.150781Z",
     "start_time": "2025-09-13T10:13:32.146053Z"
    }
   },
   "cell_type": "code",
   "source": [
    "def normalize_output(img):\n",
    "    img = (img - img.min())/(img.max()-img.min())\n",
    "    return img\n",
    "\n",
    "def check_plot(model):\n",
    "    with torch.no_grad():\n",
    "        for data in train_DL:\n",
    "\n",
    "            inputs = data[0].to(DEVICE)\n",
    "            outputs = model(inputs)\n",
    "\n",
    "            input_samples = inputs.permute(0,2,3,1).cpu().numpy() # 원래 이미지\n",
    "            reconstructed_samples = outputs.permute(0,2,3,1).cpu().numpy() # 생성 이미지\n",
    "            break # 배치 하나만 받고 for문 종료\n",
    "\n",
    "    #reconstructed_samples = normalize_output(reconstructed_samples) # 0~1사이로 변환\n",
    "    #input_samples = normalize_output(input_samples) # 0~1사이로 변환\n",
    "\n",
    "    columns = 8 # 시각화 전체 너비\n",
    "    rows = 4 # 시각화 전체 높이\n",
    "\n",
    "    fig=plt.figure(figsize=(columns, rows)) # figure 선언\n",
    "\n",
    "    # 원래 이미지 배치 크기 만큼 보여주기\n",
    "    for i in range(1, columns*rows+1):\n",
    "        img = input_samples[i-1]\n",
    "        fig.add_subplot(rows, columns, i)\n",
    "        plt.imshow(img.squeeze())\n",
    "        #plt.imshow(cv2.cvtColor(img, cv2.COLOR_BGR2RGB))\n",
    "        plt.axis('off')\n",
    "    plt.show()\n",
    "\n",
    "    # 생성 이미지 배치 크기 만큼 보여주기\n",
    "    fig=plt.figure(figsize=(columns, rows))\n",
    "\n",
    "    for i in range(1, columns*rows+1):\n",
    "        img = reconstructed_samples[i-1]\n",
    "        fig.add_subplot(rows, columns, i)\n",
    "        plt.imshow(img.squeeze())\n",
    "        #plt.imshow(cv2.cvtColor(img, cv2.COLOR_BGR2RGB))\n",
    "        plt.axis('off')\n",
    "    plt.show()"
   ],
   "id": "950d51177ea2ab72",
   "outputs": [],
   "execution_count": 15
  },
  {
   "metadata": {
    "ExecuteTime": {
     "end_time": "2025-09-13T10:13:32.194549Z",
     "start_time": "2025-09-13T10:13:32.192225Z"
    }
   },
   "cell_type": "code",
   "source": [
    "def cluster_dist(enc, centers):\n",
    "    expanded_enc = enc.unsqueeze(1) # (batch, 1, 10)\n",
    "    expanded_cen = centers.unsqueeze(0) # (1, 10, 10)\n",
    "    distance = torch.sum((expanded_enc-expanded_cen)**2, dim=2)\n",
    "    min_dist,_ = torch.min(distance, dim=1)\n",
    "    return torch.mean(min_dist)"
   ],
   "id": "603afd76c46e57e2",
   "outputs": [],
   "execution_count": 16
  },
  {
   "metadata": {
    "ExecuteTime": {
     "end_time": "2025-09-13T10:13:32.241457Z",
     "start_time": "2025-09-13T10:13:32.238390Z"
    }
   },
   "cell_type": "code",
   "source": [
    "def train(model:nn.Module):\n",
    "    epoch = 31\n",
    "    criterion = nn.MSELoss()\n",
    "    optimizer = optim.Adam(model.parameters(), lr = 1e-4)\n",
    "    losses = []\n",
    "    for e in range(epoch):\n",
    "        epoch_loss = 0.0\n",
    "        for x_batch, y_batch in train_DL:\n",
    "            x_batch = x_batch.to(DEVICE)\n",
    "            optimizer.zero_grad()\n",
    "            x_hat,enc = model(x_batch)\n",
    "\n",
    "            loss = criterion(x_hat, x_batch)\n",
    "            loss.backward()\n",
    "            optimizer.step()\n",
    "            epoch_loss += loss.item()\n",
    "        cost = epoch_loss / len(train_DL)\n",
    "        print(f'Epoch {e}: {cost}')\n",
    "        losses.append(epoch_loss)"
   ],
   "id": "8dfcf6e5e60a39cb",
   "outputs": [],
   "execution_count": 17
  },
  {
   "metadata": {
    "ExecuteTime": {
     "end_time": "2025-09-13T10:13:32.428956Z",
     "start_time": "2025-09-13T10:13:32.284967Z"
    }
   },
   "cell_type": "code",
   "source": [
    "autoencoder = AutoEncoderConv().to(DEVICE)\n",
    "autoencoder"
   ],
   "id": "45a0b087d61d4dca",
   "outputs": [
    {
     "data": {
      "text/plain": [
       "AutoEncoderConv(\n",
       "  (encoder): Sequential(\n",
       "    (0): Conv2d(1, 16, kernel_size=(3, 3), stride=(2, 2))\n",
       "    (1): ReLU()\n",
       "    (2): Conv2d(16, 32, kernel_size=(3, 3), stride=(2, 2))\n",
       "    (3): ReLU()\n",
       "    (4): Conv2d(32, 64, kernel_size=(3, 3), stride=(1, 1))\n",
       "    (5): ReLU()\n",
       "    (6): Flatten()\n",
       "    (7): Linear(in_features=1024, out_features=10, bias=True)\n",
       "    (8): ReLU()\n",
       "  )\n",
       "  (decoder): Sequential(\n",
       "    (0): Linear(in_features=10, out_features=1024, bias=True)\n",
       "    (1): ReLU()\n",
       "    (2): DeFlatten()\n",
       "    (3): ConvTranspose2d(64, 32, kernel_size=(3, 3), stride=(1, 1))\n",
       "    (4): ReLU()\n",
       "    (5): ConvTranspose2d(32, 16, kernel_size=(3, 3), stride=(2, 2))\n",
       "    (6): ReLU()\n",
       "    (7): ConvTranspose2d(16, 1, kernel_size=(3, 3), stride=(2, 2), output_padding=(1, 1))\n",
       "    (8): Sigmoid()\n",
       "  )\n",
       ")"
      ]
     },
     "execution_count": 18,
     "metadata": {},
     "output_type": "execute_result"
    }
   ],
   "execution_count": 18
  },
  {
   "metadata": {
    "jupyter": {
     "is_executing": true
    },
    "ExecuteTime": {
     "start_time": "2025-09-13T10:13:32.461048Z"
    }
   },
   "cell_type": "code",
   "source": "train(autoencoder)",
   "id": "159c885a4863a763",
   "outputs": [],
   "execution_count": null
  },
  {
   "metadata": {},
   "cell_type": "code",
   "source": "save_model_path = './results/autoencoder.pt'",
   "id": "8ab14f4fb8a8aac0",
   "outputs": [],
   "execution_count": null
  },
  {
   "metadata": {},
   "cell_type": "code",
   "source": "torch.save(autoencoder.state_dict(), save_model_path)",
   "id": "f5ea062cd3732b4f",
   "outputs": [],
   "execution_count": null
  },
  {
   "metadata": {},
   "cell_type": "markdown",
   "source": "# Clustering",
   "id": "2d7b2dcc336f75fb"
  },
  {
   "metadata": {},
   "cell_type": "code",
   "source": [
    "autoencoder = AutoEncoderConv().to(DEVICE)\n",
    "autoencoder.load_state_dict(torch.load(save_model_path, map_location=DEVICE))"
   ],
   "id": "44191c6211ba15b2",
   "outputs": [],
   "execution_count": null
  },
  {
   "metadata": {},
   "cell_type": "markdown",
   "source": "## K-Means",
   "id": "3eb779e727aa0fc6"
  },
  {
   "metadata": {},
   "cell_type": "code",
   "source": [
    "from sklearn.cluster import KMeans\n",
    "autoencoder.eval()\n",
    "all_encoded_vectors = []\n",
    "with torch.no_grad():\n",
    "    for x_batch, _ in train_DL:\n",
    "        x_batch = x_batch.to(DEVICE)\n",
    "\n",
    "        _, encode = autoencoder(x_batch)\n",
    "        all_encoded_vectors.append(encode.to('cpu'))\n",
    "all_encoded_vectors = torch.cat(all_encoded_vectors).numpy()"
   ],
   "id": "470b039a33a44db6",
   "outputs": [],
   "execution_count": null
  },
  {
   "metadata": {},
   "cell_type": "code",
   "source": [
    "kmeans = KMeans(n_clusters=10, n_init=20, random_state=42)\n",
    "kmeans.fit(all_encoded_vectors)\n",
    "cluster_centers = torch.from_numpy(kmeans.cluster_centers_).float().to(DEVICE)"
   ],
   "id": "702ca893e1686666",
   "outputs": [],
   "execution_count": null
  },
  {
   "metadata": {},
   "cell_type": "markdown",
   "source": "# Test Model",
   "id": "deb1a20d7ed8bda1"
  },
  {
   "metadata": {},
   "cell_type": "code",
   "source": [
    "criterion = nn.MSELoss()\n",
    "def test(model):\n",
    "    with torch.no_grad():\n",
    "        t_loss = 0.0\n",
    "        for x_batch, _ in test_DL:\n",
    "            x_batch = x_batch.to(DEVICE)\n",
    "            x_hat,_ = model(x_batch)\n",
    "\n",
    "            loss = criterion(x_hat, x_batch)\n",
    "            t_loss += loss\n",
    "        t_loss /= len(test_DL)\n",
    "    print(t_loss)"
   ],
   "id": "4a9a5993e4efb874",
   "outputs": [],
   "execution_count": null
  },
  {
   "metadata": {},
   "cell_type": "code",
   "source": "test(autoencoder)",
   "id": "6d19557375226a5c",
   "outputs": [],
   "execution_count": null
  },
  {
   "metadata": {},
   "cell_type": "code",
   "source": "from sklearn.manifold import TSNE",
   "id": "abcfd0a2f9eb1648",
   "outputs": [],
   "execution_count": null
  },
  {
   "metadata": {},
   "cell_type": "code",
   "source": [
    "autoencoder.eval()\n",
    "test_latent_vectors = []\n",
    "test_labels = []\n",
    "with torch.no_grad():\n",
    "    for data, labels in test_DL:\n",
    "        img = data.to(DEVICE)\n",
    "        _, latent = autoencoder(img)\n",
    "        test_latent_vectors.append(latent.cpu())\n",
    "        test_labels.append(labels)\n",
    "test_latent_vectors = torch.cat(test_latent_vectors).numpy()\n",
    "test_labels = torch.cat(test_labels).numpy()"
   ],
   "id": "6b4a82e779bfc6fd",
   "outputs": [],
   "execution_count": null
  },
  {
   "metadata": {},
   "cell_type": "code",
   "source": [
    "# t-SNE로 2차원 축소\n",
    "tsne = TSNE(n_components=2, random_state=42, perplexity=30)\n",
    "latent_tsne = tsne.fit_transform(test_latent_vectors)\n",
    "\n",
    "# 시각화\n",
    "plt.figure(figsize=(12, 10))\n",
    "for i in range(10):\n",
    "    indices = test_labels == i\n",
    "    plt.scatter(latent_tsne[indices, 0], latent_tsne[indices, 1], label=str(i), alpha=0.7)\n",
    "plt.legend()\n",
    "plt.title(\"t-SNE visualization of MNIST latent space\")\n",
    "plt.xlabel(\"t-SNE component 1\")\n",
    "plt.ylabel(\"t-SNE component 2\")\n",
    "plt.show()"
   ],
   "id": "bb4ba9cb8e344bcc",
   "outputs": [],
   "execution_count": null
  },
  {
   "metadata": {},
   "cell_type": "code",
   "source": "from sklearn.metrics import adjusted_rand_score",
   "id": "afa489636c08e15d",
   "outputs": [],
   "execution_count": null
  },
  {
   "metadata": {},
   "cell_type": "code",
   "source": "test_pred = kmeans.predict(test_latent_vectors)",
   "id": "73d819c63aa52d4",
   "outputs": [],
   "execution_count": null
  },
  {
   "metadata": {},
   "cell_type": "code",
   "source": "adjusted_rand_score(test_labels, test_pred)",
   "id": "498a9337b48b2274",
   "outputs": [],
   "execution_count": null
  },
  {
   "metadata": {},
   "cell_type": "code",
   "source": "from scipy.stats import mode",
   "id": "cac12aaffb72d1c6",
   "outputs": [],
   "execution_count": null
  },
  {
   "metadata": {},
   "cell_type": "code",
   "source": [
    "for i in range(10):\n",
    "    get_label = mode(test_labels[test_pred == i])[0]\n",
    "    print(get_label)"
   ],
   "id": "c87daaa5d3e0b1fd",
   "outputs": [],
   "execution_count": null
  }
 ],
 "metadata": {
  "kernelspec": {
   "display_name": "Python 3",
   "language": "python",
   "name": "python3"
  },
  "language_info": {
   "codemirror_mode": {
    "name": "ipython",
    "version": 2
   },
   "file_extension": ".py",
   "mimetype": "text/x-python",
   "name": "python",
   "nbconvert_exporter": "python",
   "pygments_lexer": "ipython2",
   "version": "2.7.6"
  }
 },
 "nbformat": 4,
 "nbformat_minor": 5
}
